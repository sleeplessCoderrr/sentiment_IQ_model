{
 "cells": [
  {
   "cell_type": "code",
   "execution_count": null,
   "metadata": {},
   "outputs": [],
   "source": [
    "# Load model directly\n",
    "from transformers import AutoTokenizer, AutoModelForCausalLM, pipeline\n",
    "\n",
    "tokenizer = AutoTokenizer.from_pretrained(\"postbot/gpt2-medium-emailgen\")\n",
    "model = AutoModelForCausalLM.from_pretrained(\"postbot/gpt2-medium-emailgen\")"
   ]
  },
  {
   "cell_type": "code",
   "execution_count": 6,
   "metadata": {},
   "outputs": [
    {
     "name": "stderr",
     "output_type": "stream",
     "text": [
      "Device set to use cpu\n"
     ]
    },
    {
     "name": "stdout",
     "output_type": "stream",
     "text": [
      "\n",
      "Write an email applying for a job:\n",
      "\n",
      "Dear Ms. Jane Smith,\n",
      "\n",
      "I am writing to express my interest in the Software Engineer position at your company.\n",
      "\n",
      "Sincerely,\n",
      "John Doe\n",
      "PHONE\n",
      "EMAIL\n",
      "URL\n",
      "Please note that this message is intended only for the use of the individual or entity to which it is addressed and may contain information that is privileged, confidential and exempt from disclosure under applicable law. If the reader of this message is not the intended recipient, you are hereby notified that any dissemination, distribution or copying of this communication is strictly prohibited. If you have received this communication in error, please notify us immediately by telephone at PHONE and also indicate the sender's name. Thank you.\n",
      "\n"
     ]
    }
   ],
   "source": [
    "generator = pipeline(\n",
    "    'text-generation', \n",
    "    model=model, \n",
    "    tokenizer=tokenizer,\n",
    ")\n",
    "\n",
    "# Function to generate an email\n",
    "def generate_job_application_email(sender_name, receiver_name, main_point, max_length=150):\n",
    "    \"\"\"\n",
    "    Generates a job application email based on the provided details.\n",
    "\n",
    "    Args:\n",
    "        sender_name (str): Name of the sender.\n",
    "        receiver_name (str): Name of the receiver.\n",
    "        main_point (str): The main point or purpose of the email.\n",
    "        max_length (int): The maximum length of the generated email.\n",
    "\n",
    "    Returns:\n",
    "        str: The generated email text.\n",
    "    \"\"\"\n",
    "    # Construct the prompt\n",
    "    prompt = f\"\"\"\n",
    "Write an email applying for a job:\n",
    "\n",
    "Dear {receiver_name},\n",
    "\n",
    "{main_point}\n",
    "\n",
    "Sincerely,\n",
    "{sender_name}\n",
    "\"\"\"\n",
    "\n",
    "    # Generate the email\n",
    "    result = generator(\n",
    "        prompt,\n",
    "        max_length=max_length,\n",
    "        do_sample=False,  # Deterministic output\n",
    "        early_stopping=True,\n",
    "    )\n",
    "    \n",
    "    # Return the generated email text\n",
    "    return result[0]['generated_text']\n",
    "\n",
    "# Example usage\n",
    "sender = \"John Doe\"\n",
    "receiver = \"Ms. Jane Smith\"\n",
    "main_point = \"I am writing to express my interest in the Software Engineer position at your company.\"\n",
    "\n",
    "generated_email = generate_job_application_email(sender, receiver, main_point)\n",
    "print(generated_email)"
   ]
  }
 ],
 "metadata": {
  "kernelspec": {
   "display_name": "base",
   "language": "python",
   "name": "python3"
  },
  "language_info": {
   "codemirror_mode": {
    "name": "ipython",
    "version": 3
   },
   "file_extension": ".py",
   "mimetype": "text/x-python",
   "name": "python",
   "nbconvert_exporter": "python",
   "pygments_lexer": "ipython3",
   "version": "3.12.4"
  }
 },
 "nbformat": 4,
 "nbformat_minor": 2
}
