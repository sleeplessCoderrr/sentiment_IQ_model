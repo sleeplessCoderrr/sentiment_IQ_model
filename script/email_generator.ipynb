{
 "cells": [
  {
   "cell_type": "code",
   "execution_count": 27,
   "metadata": {},
   "outputs": [
    {
     "data": {
      "text/plain": [
       "('../model/email_generator/tokenizer_config.json',\n",
       " '../model/email_generator/special_tokens_map.json',\n",
       " '../model/email_generator/vocab.json',\n",
       " '../model/email_generator/merges.txt',\n",
       " '../model/email_generator/added_tokens.json',\n",
       " '../model/email_generator/tokenizer.json')"
      ]
     },
     "execution_count": 27,
     "metadata": {},
     "output_type": "execute_result"
    }
   ],
   "source": [
    "from transformers import AutoTokenizer, AutoModelForCausalLM\n",
    "\n",
    "# Load from Hugging Face\n",
    "tokenizer = AutoTokenizer.from_pretrained(\"postbot/gpt2-medium-emailgen\")\n",
    "model = AutoModelForCausalLM.from_pretrained(\"postbot/gpt2-medium-emailgen\")\n",
    "\n",
    "# Save locally\n",
    "model_path = \"../model/email_generator/\"\n",
    "model.save_pretrained(model_path)\n",
    "tokenizer.save_pretrained(model_path)\n"
   ]
  },
  {
   "cell_type": "code",
   "execution_count": 28,
   "metadata": {},
   "outputs": [
    {
     "name": "stderr",
     "output_type": "stream",
     "text": [
      "Device set to use cpu\n",
      "Truncation was not explicitly activated but `max_length` is provided a specific value, please use `truncation=True` to explicitly truncate examples to max length. Defaulting to 'longest_first' truncation strategy. If you encode pairs of sequences (GLUE-style) with the tokenizer you can select this strategy more precisely by providing a specific strategy to `truncation`.\n",
      "c:\\Users\\vince\\anaconda3\\Lib\\site-packages\\transformers\\generation\\configuration_utils.py:676: UserWarning: `num_beams` is set to 1. However, `early_stopping` is set to `True` -- this flag is only used in beam-based generation modes. You should set `num_beams>1` or unset `early_stopping`.\n",
      "  warnings.warn(\n"
     ]
    },
    {
     "name": "stdout",
     "output_type": "stream",
     "text": [
      "\n",
      "Write an email applying for a job:\n",
      "\n",
      "Dear Ms. Jane Smith,\n",
      "\n",
      "I am writing to express my interest in the Software Engineer position at your company.\n",
      "\n",
      "Sincerely,\n",
      "John Doe\n",
      "PHONE\n",
      "EMAIL\n",
      "URL\n",
      "Please note that this message is intended only for the use of the individual or entity to which it is addressed and may contain information that is privileged, confidential and exempt from disclosure under applicable law. If the reader of this message is not the intended recipient, you are hereby notified that any dissemination, distribution or copying of this communication is strictly prohibited. If you have received this communication in error, please notify us immediately by telephone at PHONE and also indicate the sender's name. Thank you.\n",
      "\n"
     ]
    }
   ],
   "source": [
    "generator = pipeline(\n",
    "    'text-generation', \n",
    "    model=model, \n",
    "    tokenizer=tokenizer,\n",
    ")\n",
    "\n",
    "# Function to generate an email\n",
    "def generate_job_application_email(sender_name, receiver_name, main_point, max_length=150):\n",
    "    \"\"\"\n",
    "    Generates a job application email based on the provided details.\n",
    "\n",
    "    Args:\n",
    "        sender_name (str): Name of the sender.\n",
    "        receiver_name (str): Name of the receiver.\n",
    "        main_point (str): The main point or purpose of the email.\n",
    "        max_length (int): The maximum length of the generated email.\n",
    "\n",
    "    Returns:\n",
    "        str: The generated email text.\n",
    "    \"\"\"\n",
    "    # Construct the prompt\n",
    "    prompt = f\"\"\"\n",
    "Write an email applying for a job:\n",
    "\n",
    "Dear {receiver_name},\n",
    "\n",
    "{main_point}\n",
    "\n",
    "Sincerely,\n",
    "{sender_name}\n",
    "\"\"\"\n",
    "\n",
    "    # Generate the email\n",
    "    result = generator(\n",
    "        prompt,\n",
    "        max_length=max_length,\n",
    "        do_sample=False,  # Deterministic output\n",
    "        early_stopping=True,\n",
    "    )\n",
    "    \n",
    "    # Return the generated email text\n",
    "    return result[0]['generated_text']\n",
    "\n",
    "# Example usage\n",
    "sender = \"John Doe\"\n",
    "receiver = \"Ms. Jane Smith\"\n",
    "main_point = \"I am writing to express my interest in the Software Engineer position at your company.\"\n",
    "\n",
    "generated_email = generate_job_application_email(sender, receiver, main_point)\n",
    "print(generated_email)"
   ]
  }
 ],
 "metadata": {
  "kernelspec": {
   "display_name": "base",
   "language": "python",
   "name": "python3"
  },
  "language_info": {
   "codemirror_mode": {
    "name": "ipython",
    "version": 3
   },
   "file_extension": ".py",
   "mimetype": "text/x-python",
   "name": "python",
   "nbconvert_exporter": "python",
   "pygments_lexer": "ipython3",
   "version": "3.12.4"
  }
 },
 "nbformat": 4,
 "nbformat_minor": 2
}
